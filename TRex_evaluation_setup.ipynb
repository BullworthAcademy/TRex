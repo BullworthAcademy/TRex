{
 "cells": [
  {
   "cell_type": "markdown",
   "id": "latter-winner",
   "metadata": {},
   "source": [
    "# Event Processing - TRex\n",
    "Tasks:\n",
    "\n",
    "Pseudocode to generate rules and events\n",
    "\n",
    "Details in the paper: (Gianpaolo Cugola and Alessandro Margara. 2012. Complex event processingwith T-REX.Journal of Systems and Software85, 8 (2012), 1709–1728):\n",
    "\n",
    "Each test was performed with 1000 different rules deployed, all having the same structure (that of Rule\n",
    "R1 and Rule R2), but defining 10 different composite events (Fire1, defined from Temp1 and Smoke1, ..., Fire10, defined from Temp10 and Smoke10) and asking for a different minimum temperature (from 1 to 100). \n",
    "\n",
    "The value of the temperature of incoming Tempx events was uniformly distributed between 1\n",
    "and 100, while all events shared the same area to maximize the probability of using events. Given these assumptions, each incoming event was selected by 50 different rules, on average.\n",
    "\n",
    "How do these composite events differ from each other?"
   ]
  },
  {
   "cell_type": "markdown",
   "id": "fourth-holocaust",
   "metadata": {},
   "source": [
    "## Rules\n",
    "Rule1\n",
    "```sql\n",
    "define \tFire(area: string, measuredTemp: double)\n",
    "from    Smoke(area=$a) and\n",
    "\t\teach Temp(area=$a and value>45)\n",
    "\t\twithin 5 min. from Smoke\n",
    "where \tarea=Smoke.area and measuredTemp=Temp.value\n",
    "```\n",
    "\n",
    "Rule2\n",
    "```sql\n",
    "define \tFire(area: string, measuredTemp: double)\n",
    "from \tSmoke(area=$a) and\n",
    "        last Temp(area=$a and value>45)\n",
    "        within 5 min. from Smoke\n",
    "where \tarea=Smoke.area and measuredTemp=Temp.value\n",
    "```"
   ]
  },
  {
   "cell_type": "markdown",
   "id": "false-ideal",
   "metadata": {},
   "source": [
    "```sql\n",
    "Assign 2000 => Smoke, 2001 => Temp, 2100 => Fire, 3000 => Smoke1, 3001 => Temp1, 3100 => Fire1\n",
    "\n",
    "Define  Fire(area: string, measuredTemp: float)\n",
    "From    Smoke(area=>$a) and each Temp([string]area=$a, value>45) within 300000 from Smoke\n",
    "Where   area:=Smoke.area, measuredTemp:=Temp.value;\n",
    "\n",
    "Define Fire1(area: string, measuredTemp: float)\n",
    "From    Smoke1(area=>$a) and each Temp1([string]area=$a, value>45) within 300000 from Smoke1\n",
    "Where   area:Smoke1.area, measuredTemp:=Temp1.value;\n",
    "```\n",
    "\n",
    "We create one file for each rule (10 different compositve events, 100 different temperature thresholds per composite event = 1000 rule files).\n",
    "Then we have to inject each rule into the server using the java client.\n",
    "Then we have to start a client and subscribe to all 10 composite events."
   ]
  },
  {
   "cell_type": "code",
   "execution_count": null,
   "id": "original-morrison",
   "metadata": {},
   "outputs": [],
   "source": [
    "smoke_id = 1000\n",
    "temp_id = 1001\n",
    "fire_id = 1100\n",
    "file_idx = 0\n",
    "for i in range(10):\n",
    "    idx = i+1\n",
    "    assign_line = f\"Assign {smoke_id} => Smoke{idx}, {temp_id} => Temp{idx}, {fire_id} => Fire{idx}\"\n",
    "    smoke_id += 1000\n",
    "    temp_id += 1000\n",
    "    fire_id += 1000\n",
    "    for temp_threshold in range(1,101):\n",
    "        with open(f\"trex_rules/trex1_{file_idx}.rule\", mode=\"w\", encoding=\"utf-8\") as rule_file:\n",
    "            rule_file.write(assign_line)\n",
    "            rule1 = f\"\"\"Define  Fire{idx}(area: string, measuredTemp: float)\n",
    "From    Smoke{idx}(area=>$a) and each Temp{idx}([string]area=$a, value>{temp_threshold}) within 300000 from Smoke{idx}\n",
    "Where   area:=Smoke{idx}.area, measuredTemp:=Temp{idx}.value;\"\"\"\n",
    "            rule_file.write(\"\\n\\n\")\n",
    "            rule_file.write(rule1)\n",
    "            file_idx += 1"
   ]
  },
  {
   "cell_type": "code",
   "execution_count": null,
   "id": "conventional-understanding",
   "metadata": {},
   "outputs": [],
   "source": [
    "smoke_id = 1000\n",
    "temp_id = 1001\n",
    "fire_id = 1100\n",
    "file_idx = 0\n",
    "for i in range(10):\n",
    "    idx = i+1\n",
    "    assign_line = f\"Assign {smoke_id} => Smoke{idx}, {temp_id} => Temp{idx}, {fire_id} => Fire{idx}\"\n",
    "    smoke_id += 1000\n",
    "    temp_id += 1000\n",
    "    fire_id += 1000\n",
    "    for temp_threshold in range(1,101):\n",
    "        with open(f\"trex_rules/trex2_{file_idx}.rule\", mode=\"w\", encoding=\"utf-8\") as rule_file:\n",
    "            rule_file.write(assign_line)\n",
    "            rule2 = f\"\"\"Define  Fire{idx}(area: string, measuredTemp: float)\n",
    "From    Smoke{idx}(area=>$a) and last Temp{idx}([string]area=$a, value>{temp_threshold}) within 300000 from Smoke{idx}\n",
    "Where   area:=Smoke{idx}.area, measuredTemp:=Temp{idx}.value;\"\"\"\n",
    "            rule_file.write(\"\\n\\n\")\n",
    "            rule_file.write(rule2)\n",
    "            file_idx += 1"
   ]
  },
  {
   "cell_type": "markdown",
   "id": "regular-acquisition",
   "metadata": {},
   "source": [
    "#### Injecting the rules\n",
    "We have 1000 rule files for rule 1 and 1000 rule files for rule 2, each numbered from 0-999.\n",
    "\n",
    "```bash\n",
    "#!/bin/bash\n",
    "# Bash script for loading the rule files corresponding to rule 1\n",
    "\n",
    "for ((i = 0; i < 1000; i++)); do\n",
    "        java -jar TRex-client.jar localhost 50254 -rule \"trex_rules/trex1_$i.rule\"\n",
    "done\n",
    "```\n",
    "\n",
    "- Save this as `load_rule1.sh` in the TRex-Java-Client directory and run it from there.\n",
    "- Make it executable with `sudo chmod u+x load_rule1.sh`\n",
    "- After starting the TRex-Server with `TRexServer` you can run the script to inject all the rules: `./load_rule1.sh`\n",
    "- This will probably take a while...\n",
    "\n",
    "You can repeat the process for rule 2. You just have to replace the `1` with `2`."
   ]
  },
  {
   "cell_type": "markdown",
   "id": "treated-force",
   "metadata": {},
   "source": [
    "The subscription command:\n",
    "\n",
    "```java -jar TRex-client.jar localhost 50254 -sub 1100 2100 3100 4100 5100 6100 7100 8100 9100 10100```"
   ]
  },
  {
   "cell_type": "markdown",
   "id": "unlimited-perception",
   "metadata": {},
   "source": [
    "## Events\n",
    "\n",
    "\n",
    "Now we want to automate the process of event generation.\n",
    "\n",
    "A few questions:\n",
    "- How do we generate a ton of events according to an input rate?\n",
    "- In which order do we generate Temp_x and Fire_x events? Random as well? But we have to create different loads (10%/50%/90% Smoke_x events and 90%/50%/10% Temp_x events) -> Random prob according to load\n",
    "- Also do we randomly choose to publish e.g. Temp_1 and Fire_1 events vs. Temp_2 and Fire_2 events, i.e. do we alternate between the different composite events? -> Randomint\n",
    "\n",
    "(A bug that I discovered when running the python script:\n",
    "\n",
    "Even though I specified `float` for temperature values in the rules passing in floats via `java -jar TRex-client.jar localhost 50254 -pub {temp_id} area toto value {temperature}` does NOT work. You have to use `int`.)"
   ]
  },
  {
   "cell_type": "code",
   "execution_count": null,
   "id": "documentary-listing",
   "metadata": {},
   "outputs": [],
   "source": [
    "import random\n",
    "import os"
   ]
  },
  {
   "cell_type": "code",
   "execution_count": null,
   "id": "communist-yellow",
   "metadata": {},
   "outputs": [],
   "source": [
    "load = 0.1  # 10% Smoke_x events\n",
    "seconds = 10\n",
    "measurement_intervals = 3\n",
    "for i in range(measurement_intervals):\n",
    "        n_call = 0\n",
    "        t_end = time.time() + seconds\n",
    "        while time.time() < t_end:\n",
    "            n_call += 1\n",
    "            temperature = round(random.uniform(0,100))\n",
    "            composite_event_id = random.randint(1, 10)\n",
    "            smoke_id = composite_event_id * 1000\n",
    "            temp_id = composite_event_id * 1000 + 1\n",
    "            if random.random() > load:\n",
    "                os.system(f\"java -jar TRex-client.jar localhost 50254 -pub {temp_id} area toto value {temperature}\")\n",
    "            else:\n",
    "                os.system(f\"java -jar TRex-client.jar localhost 50254 -pub {smoke_id} area toto\")\n",
    "        print(f\"Measurement interval {i+1}: {n_call/seconds} events/seconds\")"
   ]
  },
  {
   "cell_type": "markdown",
   "id": "herbal-alcohol",
   "metadata": {},
   "source": [
    "So a python script file `generate_events.py` may look like this:\n",
    "\n",
    "```python\n",
    "#!/usr/bin/env python3\n",
    "import random\n",
    "import os\n",
    "import time\n",
    "\n",
    "\n",
    "def publish_events(seconds, load, measurement_intervals):\n",
    "    for i in range(measurement_intervals):\n",
    "        n_call = 0\n",
    "        t_end = time.time() + seconds\n",
    "        while time.time() < t_end:\n",
    "            n_call += 1\n",
    "            temperature = round(random.uniform(0,100))\n",
    "            composite_event_id = random.randint(1, 10)\n",
    "            smoke_id = composite_event_id * 1000\n",
    "            temp_id = composite_event_id * 1000 + 1\n",
    "            if random.random() > load:\n",
    "                os.system(f\"java -jar TRex-client.jar localhost 50254 -pub {temp_id} area toto value {temperature}\")\n",
    "            else:\n",
    "                os.system(f\"java -jar TRex-client.jar localhost 50254 -pub {smoke_id} area toto\")\n",
    "        print(f\"Measurement interval {i+1}: {n_call/seconds} events/seconds\")\n",
    "\n",
    "\n",
    "if __name__ == \"__main__\":\n",
    "    publish_events(seconds=10, load=0.1, measurement_intervals=3)\n",
    "```"
   ]
  },
  {
   "cell_type": "markdown",
   "id": "crucial-isolation",
   "metadata": {},
   "source": [
    "## Experiments\n",
    "\n",
    "For each rule and load scenario perform these steps:\n",
    "- Start the TRexServer in one shell: `TRexServer > rule1_load_10.log` in `TRex/TRex-Server` (this writes the system output to a log file, set a different name for the currently used scenario/rule)\n",
    "- In a separate shell load the rules using the bash script, e.g. for rule 1: `./load_rule1.sh` in `TRex/TRex-Java-client`\n",
    "- Wait for the script to finish, then start a client that subscribes to all the Fire_x events: `java -jar TRex-client.jar localhost 50254 -sub 1100 2100 3100 4100 5100 6100 7100 8100 9100 10100`\n",
    "- In a separate shell modify the load variable in `TRex/TRex-Java-client/generate_events.py`, e.g. to 0.1 for load 10% Smoke_x events and then run the script `python generate_events.py` in `TRex/TRex-Java-client`\n",
    "- Quit the client and server, then proceed with the next rule/scenario"
   ]
  },
  {
   "cell_type": "markdown",
   "id": "european-circulation",
   "metadata": {},
   "source": [
    "# Working with the logs\n",
    "The most relevant lines in the log files look like this:\n",
    "\n",
    "> Latency: 365ms\n",
    "\n",
    "> Throughput rate: 0.444114Pkt/s\n",
    "\n",
    "We now extract the latency and throughput measurements from the lines.\n",
    "\n",
    "Note that I ran the experiment for each load scenario for 30 seconds.\n",
    "So I wonder why there are so many throughput rate lines if the throughput rate was measured over a 10 seconds interval...\n",
    "Latency and throughput measurements are done each time handleResults method is called.\n",
    "\n",
    "I assume the following log files:\n",
    "- rule1_load_10.log\n",
    "- rule1_load_50.log\n",
    "- rule1_load_90.log\n",
    "- rule2_load_10.log\n",
    "- rule2_load_50.log\n",
    "- rule2_load_90.log"
   ]
  },
  {
   "cell_type": "code",
   "execution_count": 1,
   "id": "raising-narrative",
   "metadata": {},
   "outputs": [],
   "source": [
    "import numpy as np\n",
    "import pandas as pd\n",
    "import seaborn as sns\n",
    "import matplotlib.pyplot as plt"
   ]
  },
  {
   "cell_type": "code",
   "execution_count": 2,
   "id": "clean-burden",
   "metadata": {},
   "outputs": [],
   "source": [
    "log_dir = \"logs/run02/\""
   ]
  },
  {
   "cell_type": "code",
   "execution_count": 3,
   "id": "statewide-arena",
   "metadata": {},
   "outputs": [],
   "source": [
    "input_rates = {\n",
    "    \"rule1\": {\n",
    "        \"load10\": [17.933333333333334, 17.8666666666666670, 18.0],\n",
    "        \"load50\": [18.6, 17.9333333333333340, 17.666666666666668],\n",
    "        \"load90\": [18.066666666666666, 18.0, 18.0]\n",
    "    },\n",
    "    \"rule2\": {\n",
    "        \"load10\": [18.6, 18.533333333333335, 18.6],\n",
    "        \"load50\": [18.066666666666666, 18.2, 18.266666666666666],\n",
    "        \"load90\": [18.333333333333332, 18.333333333333332, 18.266666666666666]\n",
    "    }\n",
    "}"
   ]
  },
  {
   "cell_type": "code",
   "execution_count": 4,
   "id": "graduate-address",
   "metadata": {},
   "outputs": [
    {
     "name": "stdout",
     "output_type": "stream",
     "text": [
      "Input rates (mean+/-std): 18.181481481481477+/-0.27107973912800376 events/s\n"
     ]
    }
   ],
   "source": [
    "input_rates_flattened = [17.933333333333334, 17.8666666666666670, 18.0, 18.6, 17.9333333333333340, 17.666666666666668, 18.066666666666666, 18.0, 18.0, 18.6, 18.533333333333335, 18.6, 18.066666666666666, 18.2, 18.266666666666666, 18.333333333333332, 18.333333333333332, 18.266666666666666]\n",
    "print(f\"Input rates (mean+/-std): {np.mean(input_rates_flattened)}+/-{np.std(input_rates_flattened)} events/s\")"
   ]
  },
  {
   "cell_type": "code",
   "execution_count": 5,
   "id": "appointed-input",
   "metadata": {},
   "outputs": [],
   "source": [
    "def get_data_from_log(log_file_path):\n",
    "    throughput_rates = []\n",
    "    latencies = []\n",
    "    latency_prefix_len = len(\"Latency: \")\n",
    "    latency_suffix_len = len(\"ms\\n\")\n",
    "    throughput_prefix_len = len(\"Throughput rate: \")\n",
    "    throughput_suffix_len = len(\"Pkt/s\\n\")\n",
    "    with open(log_file_path, mode=\"r\", encoding=\"utf-8\") as f:\n",
    "        for line in f.readlines():\n",
    "            if line.startswith(\"Latency\"):\n",
    "                latency = int(line[latency_prefix_len:-latency_suffix_len])\n",
    "                latencies.append(latency)\n",
    "            elif line.startswith(\"Throughput rate\"):\n",
    "                throughput_rate = float(line[throughput_prefix_len:-throughput_suffix_len])\n",
    "                throughput_rates.append(throughput_rate)\n",
    "    return throughput_rates, latencies"
   ]
  },
  {
   "cell_type": "code",
   "execution_count": 6,
   "id": "framed-petersburg",
   "metadata": {},
   "outputs": [],
   "source": [
    "def calculate_stats(data):\n",
    "    return {\n",
    "        \"min\": np.min(data), \n",
    "        \"max\": np.max(data), \n",
    "        \"mean\": np.mean(data), \n",
    "        \"median\": np.median(data),\n",
    "        \"std\": np.std(data)\n",
    "    }"
   ]
  },
  {
   "cell_type": "code",
   "execution_count": 7,
   "id": "attempted-orlando",
   "metadata": {},
   "outputs": [],
   "source": [
    "def get_rule_measurements(rule_no=1, log_dir=\"logs/\"):\n",
    "    rule_measurements = {}\n",
    "    for load in [10, 50, 90]:\n",
    "        throughput_rates, latencies = get_data_from_log(log_dir + f\"rule{rule_no}_load_{load}.log\")\n",
    "        rule_measurements[f\"load{load}\"] = {\n",
    "            \"input_rates\": input_rates[f\"rule{rule_no}\"][f\"load{load}\"],\n",
    "            \"latencies\": latencies,\n",
    "            \"throughput_rates\": throughput_rates,\n",
    "            \"latencies_stats\": calculate_stats(latencies),\n",
    "            \"throughput_rates_stats\": calculate_stats(throughput_rates),\n",
    "        }\n",
    "    return rule_measurements"
   ]
  },
  {
   "cell_type": "code",
   "execution_count": 8,
   "id": "designed-township",
   "metadata": {},
   "outputs": [],
   "source": [
    "rule1_measurements = get_rule_measurements(rule_no=1, log_dir=log_dir)"
   ]
  },
  {
   "cell_type": "code",
   "execution_count": 9,
   "id": "engaged-packaging",
   "metadata": {},
   "outputs": [],
   "source": [
    "pd.DataFrame(rule1_measurements).to_json(\"rule1_measurements.json\")"
   ]
  },
  {
   "cell_type": "code",
   "execution_count": 10,
   "id": "other-tract",
   "metadata": {},
   "outputs": [],
   "source": [
    "rule2_measurements = get_rule_measurements(rule_no=2, log_dir=log_dir)"
   ]
  },
  {
   "cell_type": "code",
   "execution_count": 11,
   "id": "structural-jumping",
   "metadata": {},
   "outputs": [],
   "source": [
    "pd.DataFrame(rule2_measurements).to_json(\"rule2_measurements.json\")"
   ]
  },
  {
   "cell_type": "code",
   "execution_count": 12,
   "id": "pursuant-toolbox",
   "metadata": {},
   "outputs": [],
   "source": [
    "def print_stats(rule_measurements, rule_no):\n",
    "    print(f\"--------Rule{rule_no}-----------\")\n",
    "    for load in [10, 50, 90]:\n",
    "        latency_stats = rule_measurements[f\"load{load}\"][\"latencies_stats\"]\n",
    "        print(f\"Latency stats for load {load}%: \\n {latency_stats}\")\n",
    "        throughput_rate_stats = rule_measurements[f\"load{load}\"][\"throughput_rates_stats\"]\n",
    "        print(f\"Throughput rate stats for load {load}%: \\n {throughput_rate_stats}\")\n",
    "        print(\"\\n\")"
   ]
  },
  {
   "cell_type": "code",
   "execution_count": 13,
   "id": "intense-maria",
   "metadata": {},
   "outputs": [],
   "source": [
    "def get_load_latencies(rule_measurements):\n",
    "    load_latencies = {\n",
    "        \"load\": [],\n",
    "        \"latency\": [] \n",
    "    }\n",
    "    for load in [10, 50, 90]:\n",
    "        latencies = rule_measurements[f\"load{load}\"][\"latencies\"]\n",
    "        load_latencies[\"latency\"] += latencies\n",
    "        load_latencies[\"load\"] += [load for i in range(len(latencies))]\n",
    "    return pd.DataFrame(load_latencies)\n",
    "\n",
    "def get_load_throughput_rates(rule_measurements):\n",
    "    load_throughput_rates = {\n",
    "        \"load\": [],\n",
    "        \"throughput_rate\": [] \n",
    "    }\n",
    "    for load in [10, 50, 90]:\n",
    "        throughput_rates = rule_measurements[f\"load{load}\"][\"throughput_rates\"]\n",
    "        load_throughput_rates[\"throughput_rate\"] += throughput_rates\n",
    "        load_throughput_rates[\"load\"] += [load for i in range(len(throughput_rates))]\n",
    "    return pd.DataFrame(load_throughput_rates)"
   ]
  },
  {
   "cell_type": "markdown",
   "id": "hundred-selection",
   "metadata": {},
   "source": [
    "### Rule 1 Results"
   ]
  },
  {
   "cell_type": "code",
   "execution_count": 14,
   "id": "suspected-netherlands",
   "metadata": {},
   "outputs": [
    {
     "name": "stdout",
     "output_type": "stream",
     "text": [
      "--------Rule1-----------\n",
      "Latency stats for load 10%: \n",
      " {'min': 243, 'max': 3357, 'mean': 478.96158612143745, 'median': 319.0, 'std': 478.9458760443482}\n",
      "Throughput rate stats for load 10%: \n",
      " {'min': 0.0, 'max': 20.8204, 'mean': 1.2217411811414394, 'median': 0.0, 'std': 3.846907148253894}\n",
      "\n",
      "\n",
      "Latency stats for load 50%: \n",
      " {'min': 253, 'max': 2401, 'mean': 652.9962686567164, 'median': 397.0, 'std': 461.6869389403031}\n",
      "Throughput rate stats for load 50%: \n",
      " {'min': 0.0, 'max': 14.118, 'mean': 3.23010211442786, 'median': 0.629883, 'std': 4.113089846230165}\n",
      "\n",
      "\n",
      "Latency stats for load 90%: \n",
      " {'min': 252, 'max': 962, 'mean': 464.3403205918619, 'median': 441.0, 'std': 134.36366020292763}\n",
      "Throughput rate stats for load 90%: \n",
      " {'min': 0.0, 'max': 3.78999, 'mean': 1.1553408621975307, 'median': 0.823427, 'std': 1.1032484181355893}\n",
      "\n",
      "\n"
     ]
    }
   ],
   "source": [
    "print_stats(rule1_measurements, rule_no=1)"
   ]
  },
  {
   "cell_type": "code",
   "execution_count": 15,
   "id": "usual-protocol",
   "metadata": {},
   "outputs": [
    {
     "data": {
      "image/png": "[encoded data removed]",
      "text/plain": [
       "<Figure size 432x288 with 1 Axes>"
      ]
     },
     "metadata": {
      "needs_background": "light"
     },
     "output_type": "display_data"
    }
   ],
   "source": [
    "ax = sns.boxplot(data=get_load_latencies(rule1_measurements), x=\"load\", y=\"latency\")\n",
    "ax.set(xlabel='Load percentage of Smoke_x events', ylabel='Latency in ms')\n",
    "fig = ax.get_figure()\n",
    "fig.savefig(\"rule1_latency_boxplot.pdf\")\n",
    "plt.show()"
   ]
  },
  {
   "cell_type": "code",
   "execution_count": 16,
   "id": "sublime-bahamas",
   "metadata": {},
   "outputs": [
    {
     "data": {
      "image/png": "[encoded data removed]",
      "text/plain": [
       "<Figure size 432x288 with 1 Axes>"
      ]
     },
     "metadata": {
      "needs_background": "light"
     },
     "output_type": "display_data"
    }
   ],
   "source": [
    "ax = sns.boxplot(data=get_load_throughput_rates(rule1_measurements), x=\"load\", y=\"throughput_rate\")\n",
    "ax.set(xlabel='Load percentage of Smoke_x events', ylabel='Throughput rate (events/s)')\n",
    "fig = ax.get_figure()\n",
    "fig.savefig(\"rule1_throughput_rate_boxplot.pdf\")\n",
    "plt.show()"
   ]
  },
  {
   "cell_type": "markdown",
   "id": "reported-committee",
   "metadata": {},
   "source": [
    "### Rule 2 Results"
   ]
  },
  {
   "cell_type": "code",
   "execution_count": 17,
   "id": "diagnostic-quebec",
   "metadata": {},
   "outputs": [
    {
     "name": "stdout",
     "output_type": "stream",
     "text": [
      "--------Rule2-----------\n",
      "Latency stats for load 10%: \n",
      " {'min': 249, 'max': 561, 'mean': 317.3612440191388, 'median': 311.0, 'std': 43.36300686071776}\n",
      "Throughput rate stats for load 10%: \n",
      " {'min': 0.0, 'max': 0.582355, 'mean': 0.036441624401913876, 'median': 0.0, 'std': 0.1318883285700447}\n",
      "\n",
      "\n",
      "Latency stats for load 50%: \n",
      " {'min': 254, 'max': 858, 'mean': 364.81418092909536, 'median': 342.0, 'std': 74.6679835643189}\n",
      "Throughput rate stats for load 50%: \n",
      " {'min': 0.0, 'max': 0.67208, 'mean': 0.2768530024449878, 'median': 0.0, 'std': 0.28118251421228313}\n",
      "\n",
      "\n",
      "Latency stats for load 90%: \n",
      " {'min': 251, 'max': 678, 'mean': 377.65412621359224, 'median': 356.0, 'std': 67.79008528233322}\n",
      "Throughput rate stats for load 90%: \n",
      " {'min': 0.0, 'max': 0.832229, 'mean': 0.43036040485436894, 'median': 0.5342355000000001, 'std': 0.2696770151372294}\n",
      "\n",
      "\n"
     ]
    }
   ],
   "source": [
    "print_stats(rule2_measurements, rule_no=2)"
   ]
  },
  {
   "cell_type": "code",
   "execution_count": 18,
   "id": "heavy-prague",
   "metadata": {},
   "outputs": [
    {
     "data": {
      "image/png": "[encoded data removed]",
      "text/plain": [
       "<Figure size 432x288 with 1 Axes>"
      ]
     },
     "metadata": {
      "needs_background": "light"
     },
     "output_type": "display_data"
    }
   ],
   "source": [
    "ax = sns.boxplot(data=get_load_latencies(rule2_measurements), x=\"load\", y=\"latency\")\n",
    "ax.set(xlabel='Load percentage of Smoke_x events', ylabel='Latency in ms')\n",
    "fig = ax.get_figure()\n",
    "fig.savefig(\"rule2_latency_boxplot.pdf\")\n",
    "plt.show()"
   ]
  },
  {
   "cell_type": "code",
   "execution_count": 19,
   "id": "specified-indianapolis",
   "metadata": {},
   "outputs": [
    {
     "data": {
      "image/png": "[encoded data removed]",
      "text/plain": [
       "<Figure size 432x288 with 1 Axes>"
      ]
     },
     "metadata": {
      "needs_background": "light"
     },
     "output_type": "display_data"
    }
   ],
   "source": [
    "ax = sns.boxplot(data=get_load_throughput_rates(rule2_measurements), x=\"load\", y=\"throughput_rate\")\n",
    "ax.set(xlabel='Load percentage of Smoke_x events', ylabel='Throughput rate (events/s)')\n",
    "fig = ax.get_figure()\n",
    "fig.savefig(\"rule2_throughput_rate_boxplot.pdf\")\n",
    "plt.show()"
   ]
  },
  {
   "cell_type": "markdown",
   "id": "solved-algorithm",
   "metadata": {},
   "source": [
    "## Another attempt at throughput measurement\n",
    "\n",
    "I logged the PubPacket received messages from the subscribing client. \n",
    "\n",
    "For reference, typical output from the subscribed client looks like this:\n",
    "\n",
    "> PubPacket received: {4100 <area : string = toto> <measuredTemp : float = 77.0>}@Jul 7, 2021 5:27:12 PM\n",
    "    \n",
    "> PubPacket received: {4100 <area : string = toto> <measuredTemp : float = 77.0>}@Jul 7, 2021 5:27:12 PM\n",
    "\n",
    "> PubPacket received: {7100 <area : string = toto> <measuredTemp : float = 81.0>}@Jul 7, 2021 5:27:13 PM\n",
    "    \n",
    "\n",
    "If we count the number of received PubPackets (corresponding to generated Fire events) per unique time stamp that would also give an estimate of the throughput rate."
   ]
  },
  {
   "cell_type": "code",
   "execution_count": 20,
   "id": "northern-kitchen",
   "metadata": {},
   "outputs": [],
   "source": [
    "import numpy as np\n",
    "import pandas as pd"
   ]
  },
  {
   "cell_type": "code",
   "execution_count": 21,
   "id": "accomplished-leone",
   "metadata": {},
   "outputs": [],
   "source": [
    "def get_throughput_from_pub_packets(log_path):\n",
    "    timestamps = []\n",
    "    with open(log_path, mode=\"r\", encoding=\"utf-8\") as f:\n",
    "        for line in f.readlines():\n",
    "            timestamps.append(line.split(\"@\")[-1])\n",
    "    uniques, counts = np.unique(timestamps, return_counts=True)\n",
    "    return uniques, counts"
   ]
  },
  {
   "cell_type": "code",
   "execution_count": 22,
   "id": "rational-surgery",
   "metadata": {},
   "outputs": [],
   "source": [
    "def print_throughputs(rule_no, log_dir=\"logs/run02/\"):\n",
    "    for load in [10, 50, 90]:\n",
    "        log_path = log_dir + f\"rule{rule_no}_load_{load}_pubpacket.log\"\n",
    "        uniques, throughput_rates = get_throughput_from_pub_packets(log_path)\n",
    "        mean = np.mean(throughput_rates)\n",
    "        std = np.std(throughput_rates)\n",
    "        print(f\"Load {load}% Smoke_x events: {mean}+/-{std} events/s\")\n",
    "        print(throughput_rates)\n",
    "        print(\"\\n\")"
   ]
  },
  {
   "cell_type": "code",
   "execution_count": 23,
   "id": "finite-midnight",
   "metadata": {},
   "outputs": [],
   "source": [
    "def get_throughputs_per_load(rule_no, log_dir=\"logs/run02/\"):\n",
    "    load_throughput_rates = {\n",
    "        \"load\": [],\n",
    "        \"throughput_rate\": [] \n",
    "    }\n",
    "    for load in [10, 50, 90]:\n",
    "        log_path = log_dir + f\"rule{rule_no}_load_{load}_pubpacket.log\"\n",
    "        uniques, throughput_rates = get_throughput_from_pub_packets(log_path)\n",
    "        load_throughput_rates[\"throughput_rate\"] += list(throughput_rates)\n",
    "        load_throughput_rates[\"load\"] += [load for i in range(len(throughput_rates))]\n",
    "    return pd.DataFrame(load_throughput_rates)"
   ]
  },
  {
   "cell_type": "code",
   "execution_count": 24,
   "id": "interesting-wheel",
   "metadata": {},
   "outputs": [],
   "source": [
    "rule1_throughput_rates = get_throughputs_per_load(rule_no=1, log_dir=\"logs/run02/\")"
   ]
  },
  {
   "cell_type": "code",
   "execution_count": 25,
   "id": "strange-congress",
   "metadata": {},
   "outputs": [
    {
     "data": {
      "image/png": "[encoded data removed]",
      "text/plain": [
       "<Figure size 432x288 with 1 Axes>"
      ]
     },
     "metadata": {
      "needs_background": "light"
     },
     "output_type": "display_data"
    }
   ],
   "source": [
    "ax = sns.boxplot(data=rule1_throughput_rates, x=\"load\", y=\"throughput_rate\")\n",
    "ax.set(xlabel='Load percentage of Smoke_x events', ylabel='Throughput rate in events/s')\n",
    "fig = ax.get_figure()\n",
    "fig.savefig(\"rule1_throughput_pubpacket_boxplot.pdf\")\n",
    "plt.show()"
   ]
  },
  {
   "cell_type": "markdown",
   "id": "chinese-intake",
   "metadata": {},
   "source": [
    "Code to generate separate line plots for each rule & load scenario:\n",
    "\n",
    "```python\n",
    "rule_no = 1\n",
    "N = 5\n",
    "for load in [10, 50, 90]:\n",
    "    uniques, throughput_rates = get_throughput_from_pub_packets(log_path=f\"logs/run02/rule{rule_no}_load_{load}_pubpacket.log\")\n",
    "    mv_avg = list(np.convolve(throughput_rates, np.ones(N)/N, mode='valid'))\n",
    "    ax = sns.lineplot(x=[i for i in range(1, len(mv_avg)+1)], y=mv_avg)\n",
    "    ax.set(xlabel='Number seconds passed', ylabel='Throughput rate in events/s')\n",
    "    fig = ax.get_figure()\n",
    "    plt.show()\n",
    "```"
   ]
  },
  {
   "cell_type": "code",
   "execution_count": 26,
   "id": "drawn-credit",
   "metadata": {},
   "outputs": [],
   "source": [
    "def get_throughput_data_for_lineplot(rule_no=1, mv_avg_window=5):\n",
    "    throughput_rates_to_plot = []\n",
    "    loads_per_load = []\n",
    "    mv_avgs_per_load = []\n",
    "    for load in [10, 50, 90]:\n",
    "        uniques, throughput_rates = get_throughput_from_pub_packets(log_path=f\"logs/run02/rule{rule_no}_load_{load}_pubpacket.log\")\n",
    "        mv_avg = list(np.convolve(throughput_rates, np.ones(mv_avg_window)/mv_avg_window, mode='valid'))\n",
    "        mv_avgs_per_load.append(mv_avg)\n",
    "        loads_per_load.append([load for i in mv_avg])\n",
    "\n",
    "    list_length = min([len(e) for e in mv_avgs_per_load])\n",
    "\n",
    "    for loads, mv_avgs in zip(loads_per_load, mv_avgs_per_load):\n",
    "        second = 1\n",
    "        for load, throughput_rate in zip(loads[:list_length], mv_avgs[:list_length]):\n",
    "            throughput_rates_to_plot.append({\n",
    "                \"second\": second,\n",
    "                \"load\": load,\n",
    "                \"throughput_rate\": throughput_rate\n",
    "            })\n",
    "            second += 1\n",
    "    return throughput_rates_to_plot"
   ]
  },
  {
   "cell_type": "code",
   "execution_count": 27,
   "id": "nearby-singing",
   "metadata": {},
   "outputs": [
    {
     "data": {
      "image/png": "[encoded data removed]",
      "text/plain": [
       "<Figure size 432x288 with 1 Axes>"
      ]
     },
     "metadata": {
      "needs_background": "light"
     },
     "output_type": "display_data"
    }
   ],
   "source": [
    "throughput_rates_to_plot = get_throughput_data_for_lineplot(rule_no=1, mv_avg_window=5)\n",
    "ax = sns.lineplot(data=pd.DataFrame(throughput_rates_to_plot), x=\"second\", y=\"throughput_rate\", hue=\"load\")\n",
    "ax.set(xlabel='Number of seconds passed', ylabel='Throughput rate in events/s')\n",
    "fig = ax.get_figure()\n",
    "fig.savefig(\"rule1_throughput_pubpacket_lineplot.pdf\")\n",
    "plt.show()"
   ]
  },
  {
   "cell_type": "code",
   "execution_count": 28,
   "id": "designed-bloom",
   "metadata": {},
   "outputs": [
    {
     "data": {
      "image/png": "[encoded data removed]",
      "text/plain": [
       "<Figure size 432x288 with 1 Axes>"
      ]
     },
     "metadata": {
      "needs_background": "light"
     },
     "output_type": "display_data"
    }
   ],
   "source": [
    "rule2_throughput_rates = get_throughputs_per_load(rule_no=2, log_dir=\"logs/run02/\")\n",
    "ax = sns.boxplot(data=rule2_throughput_rates, x=\"load\", y=\"throughput_rate\")\n",
    "ax.set(xlabel='Load percentage of Smoke_x events', ylabel='Throughput rate in events/s')\n",
    "fig = ax.get_figure()\n",
    "fig.savefig(\"rule2_throughput_pubpacket_boxplot.pdf\")\n",
    "plt.show()"
   ]
  },
  {
   "cell_type": "code",
   "execution_count": 34,
   "id": "injured-adoption",
   "metadata": {},
   "outputs": [
    {
     "data": {
      "image/png": "[encoded data removed]",
      "text/plain": [
       "<Figure size 432x288 with 1 Axes>"
      ]
     },
     "metadata": {
      "needs_background": "light"
     },
     "output_type": "display_data"
    }
   ],
   "source": [
    "throughput_rates_to_plot = get_throughput_data_for_lineplot(rule_no=2, mv_avg_window=5)\n",
    "ax = sns.lineplot(data=pd.DataFrame(throughput_rates_to_plot), x=\"second\", y=\"throughput_rate\", hue=\"load\")\n",
    "ax.set(xlabel='Number of seconds passed', ylabel='Throughput rate in events/s')\n",
    "fig = ax.get_figure()\n",
    "fig.savefig(\"rule2_throughput_pubpacket_lineplot.pdf\")\n",
    "plt.show()"
   ]
  },
  {
   "cell_type": "code",
   "execution_count": 30,
   "id": "alert-memphis",
   "metadata": {},
   "outputs": [
    {
     "name": "stdout",
     "output_type": "stream",
     "text": [
      "Load 10% Smoke_x events: 4157.452380952381+/-3264.60727020645 events/s\n",
      "[   76   752   298   672  1713  1243   493  3272  3487  1981  3224   762\n",
      "  1614  3580  1757  1203  1447  2339  2233  1182  5995  3343  4479  6721\n",
      "  6284  2842  4730 10020  2502  9154  2691 11873 10038  2788  5356  9635\n",
      "  5985  9818  5806 11280  3867  6078]\n",
      "\n",
      "\n",
      "Load 50% Smoke_x events: 8213.760869565218+/-5108.80297468213 events/s\n",
      "[  290   359  1141  1828  1739  2164  2737  2912  2957  4302  2911  6353\n",
      "  8643  4415  5470  4766  7999  5209  2995  9601  7968  9392  9730  7162\n",
      " 10594  8309  9066 10490  8416  9456  3905 11731 11911 10702 14589 18383\n",
      " 12523 10162 11189 13349  9128 17438 20992 21253 11236  9968]\n",
      "\n",
      "\n",
      "Load 90% Smoke_x events: 3937.4545454545455+/-2487.1746699504192 events/s\n",
      "[   2    1  211  448  622  962  847 1064 1542  967 1658 1027 2122 2020\n",
      " 2824 2565 2532 2618 3781 2817 4804 3939 4565 3672 4850 5266 4758 4708\n",
      " 4308 7744 5587 6460 7993 6119 6094 5877 6443 6641 7616 6521 7080 6774\n",
      " 7214 7585]\n",
      "\n",
      "\n"
     ]
    }
   ],
   "source": [
    "print_throughputs(rule_no=1, log_dir=\"logs/run02/\")"
   ]
  },
  {
   "cell_type": "code",
   "execution_count": 31,
   "id": "established-floor",
   "metadata": {},
   "outputs": [],
   "source": [
    "rule2_throughput_rates = get_throughputs_per_load(rule_no=2, log_dir=\"logs/run02/\")"
   ]
  },
  {
   "cell_type": "code",
   "execution_count": 32,
   "id": "arranged-meditation",
   "metadata": {},
   "outputs": [
    {
     "name": "stdout",
     "output_type": "stream",
     "text": [
      "Load 10% Smoke_x events: 167.0+/-89.2873015731925 events/s\n",
      "[143 251 248  98 163 186  87  99 194 196  98 288 197  98  98 196  91 192\n",
      "  99  98 189 182  98 197  98  98 196  95  98 292  93  96  98 388 188 486]\n",
      "\n",
      "\n",
      "Load 50% Smoke_x events: 823.2826086956521+/-242.2792731937292 events/s\n",
      "[  60  420  434  388  690  776  887  892  987 1188  878  562  660  741\n",
      "  829  996  723  711  850  937  832  952  938  959  937  651  954 1162\n",
      " 1149  764  972  867  670 1063  758  944  844  671  976  861  975  784\n",
      " 1268  956 1161  194]\n",
      "\n",
      "\n",
      "Load 90% Smoke_x events: 1083.0217391304348+/-429.2206025045475 events/s\n",
      "[  38   88  262  406  482  526  716  506  830  617  614  648  733  907\n",
      "  932 1020 1015 1344 1126 1149 1194 1180 1256 1339 1554 1505 1396 1588\n",
      " 1382 1467 1559 1191 1324 1572 1499 1531 1160 1339 1361 1591 1529 1295\n",
      " 1387 1307 1592  762]\n",
      "\n",
      "\n"
     ]
    }
   ],
   "source": [
    "print_throughputs(rule_no=2, log_dir=\"logs/run02/\")"
   ]
  },
  {
   "cell_type": "code",
   "execution_count": 33,
   "id": "restricted-palmer",
   "metadata": {},
   "outputs": [
    {
     "data": {
      "image/png": "[encoded data removed]",
      "text/plain": [
       "<Figure size 432x288 with 1 Axes>"
      ]
     },
     "metadata": {
      "needs_background": "light"
     },
     "output_type": "display_data"
    }
   ],
   "source": [
    "ax = sns.boxplot(data=rule2_throughput_rates, x=\"load\", y=\"throughput_rate\")\n",
    "ax.set(xlabel='Load percentage of Smoke_x events', ylabel='Throughput rate in events/s')\n",
    "fig = ax.get_figure()\n",
    "fig.savefig(\"rule2_throughput_pubpacket_boxplot.pdf\")\n",
    "plt.show()"
   ]
  },
  {
   "cell_type": "code",
   "execution_count": null,
   "id": "subtle-white",
   "metadata": {},
   "outputs": [],
   "source": []
  }
 ],
 "metadata": {
  "kernelspec": {
   "display_name": "Python (DataScience)",
   "language": "python",
   "name": "datascience"
  },
  "language_info": {
   "codemirror_mode": {
    "name": "ipython",
    "version": 3
   },
   "file_extension": ".py",
   "mimetype": "text/x-python",
   "name": "python",
   "nbconvert_exporter": "python",
   "pygments_lexer": "ipython3",
   "version": "3.8.5"
  }
 },
 "nbformat": 4,
 "nbformat_minor": 5
}
