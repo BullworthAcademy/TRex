{
  "nbformat": 4,
  "nbformat_minor": 5,
  "metadata": {
    "kernelspec": {
      "name": "python3",
      "display_name": "Python 3"
    },
    "colab": {
      "name": "EventProcessing_Playground.ipynb",
      "provenance": [],
      "collapsed_sections": []
    },
    "language_info": {
      "name": "python"
    }
  },
  "cells": [
    {
      "cell_type": "markdown",
      "metadata": {
        "id": "undefined-execution"
      },
      "source": [
        "# Event Processing\n",
        "Details in the paper:\n",
        "\n",
        "Each test was performed with 1000 different rules deployed, all having the same structure (that of Rule\n",
        "R1 and Rule R2), but defining 10 different composite events (Fire1, defined from Temp1 and Smoke1, ..., Fire10, defined from Temp10 and Smoke10) and asking for a different minimum temperature (from 1 to 100). \n",
        "\n",
        "The value of the temperature of incoming Tempx events was uniformly distributed between 1\n",
        "and 100, while all events shared the same area to maximize the probability of using events. Given these assumptions, each incoming event was selected by 50 different rules, on average.\n",
        "\n",
      ],
      "id": "undefined-execution"
    },
    {
      "cell_type": "markdown",
      "metadata": {
        "id": "graduate-australian"
      },
      "source": [
        "## Rules\n",
        "Rule1\n",
        "```sql\n",
        "define \tFire(area: string, measuredTemp: double)\n",
        "from    Smoke(area=$a) and\n",
        "\t\teach Temp(area=$a and value>45)\n",
        "\t\twithin 5 min. from Smoke\n",
        "where \tarea=Smoke.area and measuredTemp=Temp.value\n",
        "```\n",
        "\n",
        "Rule2\n",
        "```sql\n",
        "define \tFire(area: string, measuredTemp: double)\n",
        "from \tSmoke(area=$a) and\n",
        "        last Temp(area=$a and value>45)\n",
        "        within 5 min. from Smoke\n",
        "where \tarea=Smoke.area and measuredTemp=Temp.value\n",
        "```"
      ],
      "id": "graduate-australian"
    },
    {
      "cell_type": "markdown",
      "metadata": {
        "id": "revolutionary-sustainability"
      },
      "source": [
        "```sql\n",
        "Assign 2000 => Smoke, 2001 => Temp, 2100 => Fire, 3000 => Smoke1, 3001 => Temp1, 3100 => Fire1\n",
        "\n",
        "Define  Fire(area: string, measuredTemp: float)\n",
        "From    Smoke(area=>$a) and each Temp([string]area=$a, value>45) within 300000 from Smoke\n",
        "Where   area:=Smoke.area, measuredTemp:=Temp.value;\n",
        "\n",
        "Define Fire1(area: string, measuredTemp: float)\n",
        "From    Smoke1(area=>$a) and each Temp1([string]area=$a, value>45) within 300000 from Smoke1\n",
        "Where   area:Smoke1.area, measuredTemp:=Temp1.value;\n",
        "```\n",
        "\n",
        "We create one file for each rule (10 different compositve events, 100 different temperature thresholds per composite event = 1000 rule files).\n",
        "Then we have to inject each rule into the server using the java client.\n",
        "Then we have to start a client and subscribe to all 10 composite events."
      ],
      "id": "revolutionary-sustainability"
    },
    {
      "cell_type": "code",
      "metadata": {
        "id": "graduate-disposal"
      },
      "source": [
        "smoke_id = 1000\n",
        "temp_id = 1001\n",
        "fire_id = 1100\n",
        "file_idx = 0\n",
        "for i in range(10):\n",
        "    idx = i+1\n",
        "    assign_line = f\"Assign {smoke_id} => Smoke{idx}, {temp_id} => Temp{idx}, {fire_id} => Fire{idx}\"\n",
        "    smoke_id += 1000\n",
        "    temp_id += 1000\n",
        "    fire_id += 1000\n",
        "    for temp_threshold in range(1,101):\n",
        "        with open(f\"trex_rules/trex1_{file_idx}.rule\", mode=\"w\", encoding=\"utf-8\") as rule_file:\n",
        "            rule_file.write(assign_line)\n",
        "            rule1 = f\"\"\"Define  Fire{idx}(area: string, measuredTemp: float)\n",
        "From    Smoke{idx}(area=>$a) and each Temp{idx}([string]area=$a, value>{temp_threshold}) within 300000 from Smoke{idx}\n",
        "Where   area:=Smoke{idx}.area, measuredTemp:=Temp{idx}.value;\"\"\"\n",
        "            rule_file.write(\"\\n\\n\")\n",
        "            rule_file.write(rule1)\n",
        "            file_idx += 1"
      ],
      "id": "graduate-disposal",
      "execution_count": null,
      "outputs": []
    },
    {
      "cell_type": "code",
      "metadata": {
        "id": "monthly-finnish",
        "outputId": "63056b23-644b-4594-d43c-f4ed83d59a31"
      },
      "source": [
        "smoke_id = 1000\n",
        "temp_id = 1001\n",
        "fire_id = 1100\n",
        "file_idx = 0\n",
        "for i in range(10):\n",
        "    idx = i+1\n",
        "    assign_line = f\"Assign {smoke_id} => Smoke{idx}, {temp_id} => Temp{idx}, {fire_id} => Fire{idx}\"\n",
        "    smoke_id += 1000\n",
        "    temp_id += 1000\n",
        "    fire_id += 1000\n",
        "    for temp_threshold in range(1,101):\n",
        "        with open(f\"trex_rules/trex2_{file_idx}.rule\", mode=\"w\", encoding=\"utf-8\") as rule_file:\n",
        "            rule_file.write(assign_line)\n",
        "            rule2 = f\"\"\"Define  Fire{idx}(area: string, measuredTemp: float)\n",
        "From    Smoke{idx}(area=>$a) and last Temp{idx}([string]area=$a, value>{temp_threshold}) within 300000 from Smoke{idx}\n",
        "Where   area:=Smoke{idx}.area, measuredTemp:=Temp{idx}.value;\"\"\"\n",
        "            rule_file.write(\"\\n\\n\")\n",
        "            rule_file.write(rule2)\n",
        "            file_idx += 1"
      ],
      "id": "monthly-finnish",
      "execution_count": null,
      "outputs": [
        {
          "output_type": "stream",
          "text": [
            "Define  Fire1(area: string, measuredTemp: float)\n",
            "From    Smoke1(area=>$a) and each Temp1([string]area=$a, value>45) within 300000 from Smoke1\n",
            "Where   area:=Smoke1.area, measuredTemp:=Temp1.value;\n"
          ],
          "name": "stdout"
        }
      ]
    },
    {
      "cell_type": "markdown",
      "metadata": {
        "id": "6sSzcu6s7OmC"
      },
      "source": [
        "#### Injecting the rules\n",
        "We have 1000 rule files for rule 1 and 1000 rule files for rule 2, each numbered from 0-999.\n",
        "\n",
        "```bash\n",
        "#!/bin/bash\n",
        "# Bash script for loading the rule files corresponding to rule 1\n",
        "\n",
        "for ((i = 0; i < 1000; i++)); do\n",
        "        java -jar TRex-client.jar localhost 50254 -rule \"trex_rules/trex1_$i.rule\"\n",
        "done\n",
        "```\n",
        "\n",
        "- Save this in a `load_rule1.sh` file in the TRex-Java-Client directory and run it from there.\n",
        "- Make it executable with `sudo chmod u+x load_rule1.sh`\n",
        "- After starting the TRex-Server with `TRexServer` you can run the script to inject all the rules: `./load_rule1.sh`\n",
        "- This will probably take a while...\n",
        "\n",
        "You can repeat the process for rule 2. You just have to replace the `1` with `2`."
      ],
      "id": "6sSzcu6s7OmC"
    },
    {
      "cell_type": "markdown",
      "metadata": {
        "id": "_UA4Pnq-7YJz"
      },
      "source": [
        "#### Testing\n",
        "\n",
        "One shell for the TRexServer:\n",
        "```bash\n",
        "cd TRex/TRex-Server\n",
        "TRexServer\n",
        "```\n",
        "\n",
        "In a separate shell inject the rules:\n",
        "```bash\n",
        "cd TRex/TRex-Java-Client\n",
        "./load_rule1.sh\n",
        "```\n",
        "You can start a client here and subscribe to fire events:\n",
        "```bash\n",
        "java -jar TRex-client.jar localhost 50254 -sub 1100 2100 3100 4100 5100 6100 7100 8100 9100 10100\n",
        "```\n",
        "\n",
        "In a separate shell publish events and observe packets in the subscribed client\n",
        "```bash\n",
        "java -jar TRex-client.jar localhost 50254 -pub 1001 area toto value 50\n",
        "java -jar TRex-client.jar localhost 50254 -pub 1000 area toto\n",
        "java -jar TRex-client.jar localhost 50254 -pub 2001 area toto value 50\n",
        "java -jar TRex-client.jar localhost 50254 -pub 2000 area toto\n",
        "```\n",
        "\n",
        "You should see a ton of PubPackets corresponding to Fire1 (1100) and Fire2 (2100) events."
      ],
      "id": "_UA4Pnq-7YJz"
    },
    {
      "cell_type": "markdown",
      "metadata": {
        "id": "laden-familiar"
      },
      "source": [
        "## Events\n",
        "\n",
        "\n",
        "Now we want to automate the process of event generation.\n",
        "\n",
        "A bug that I discovered when running the python script:\n",
        "\n",
        "Even though I specified `float` for temperature values in the rules passing in floats via `java -jar TRex-client.jar localhost 50254 -pub {temp_id} area toto value {temperature}` does NOT work. You have to use `int`."
      ],
      "id": "laden-familiar"
    },
    {
      "cell_type": "code",
      "metadata": {
        "id": "respiratory-caribbean"
      },
      "source": [
        "import random\n",
        "import os"
      ],
      "id": "respiratory-caribbean",
      "execution_count": null,
      "outputs": []
    },
    {
      "cell_type": "code",
      "metadata": {
        "id": "fUMkqPt_ABTU"
      },
      "source": [
        "load = 0.1  # 10% Smoke_x events\n",
        "input_rate = 100\n",
        "for i in range(input_rate):\n",
        "    temperature = round(random.uniform(0,100))\n",
        "    composite_event_id = random.randint(1, 10)\n",
        "    smoke_id = composite_event_id * 1000\n",
        "    temp_id = composite_event_id * 1000 + 1\n",
        "    if random.random() > load:\n",
        "      os.system(f\"java -jar TRex-client.jar localhost 50254 -pub {temp_id} area toto value {temperature}\")\n",
        "    else:\n",
        "      os.system(f\"java -jar TRex-client.jar localhost 50254 -pub {smoke_id} area toto\")"
      ],
      "id": "fUMkqPt_ABTU",
      "execution_count": null,
      "outputs": []
    },
    {
      "cell_type": "markdown",
      "metadata": {
        "id": "8PfXG1wGAhKh"
      },
      "source": [
        "So a python script file `publish_event.py` may look like this:\n",
        "\n",
        "```python\n",
        "#!/usr/bin/env python 3\n",
        "\n",
        "import random\n",
        "import os\n",
        "\n",
        "\n",
        "load = 0.1  # 10% Smoke_x events\n",
        "input_rate = 100\n",
        "for i in range(input_rate):\n",
        "    temperature = round(random.uniform(0,100))\n",
        "    composite_event_id = random.randint(1, 10)\n",
        "    smoke_id = composite_event_id * 1000\n",
        "    temp_id = composite_event_id * 1000 + 1\n",
        "    if random.random() > load:\n",
        "      os.system(f\"java -jar TRex-client.jar localhost 50254 -pub {temp_id} area toto value {temperature}\")\n",
        "    else:\n",
        "      os.system(f\"java -jar TRex-client.jar localhost 50254 -pub {smoke_id} area toto\")\n",
        "```\n",
        "\n",
        "Then you'd run the script with: `python3 publish_event.py`\n",
        "\n",
        "Alternatively:\n",
        "```python\n",
        "#!/usr/bin/env python3\n",
        "import random\n",
        "import os\n",
        "import time\n",
        "\n",
        "\n",
        "def publish_events(seconds, load, measurement_intervals):\n",
        "    for i in range(measurement_intervals):\n",
        "        n_call = 0\n",
        "        t_end = time.time() + seconds\n",
        "        while time.time() < t_end:\n",
        "            n_call += 1\n",
        "            temperature = round(random.uniform(0,100))\n",
        "            composite_event_id = random.randint(1, 10)\n",
        "            smoke_id = composite_event_id * 1000\n",
        "            temp_id = composite_event_id * 1000 + 1\n",
        "            if random.random() > load:\n",
        "                os.system(f\"java -jar TRex-client.jar localhost 50254 -pub {temp_id} area toto value {temperature}\")\n",
        "            else:\n",
        "                os.system(f\"java -jar TRex-client.jar localhost 50254 -pub {smoke_id} area toto\")\n",
        "        print(f\"Measurement interval {i+1}: {n_call/seconds} events/seconds\")\n",
        "\n",
        "\n",
        "if __name__ == \"__main__\":\n",
        "    publish_events(seconds=10, load=0.1, measurement_intervals=3)\n",
        "```"
      ],
      "id": "8PfXG1wGAhKh"
    },
    {
      "cell_type": "code",
      "metadata": {
        "id": "vlCHhtYfZRAt"
      },
      "source": [
        ""
      ],
      "id": "vlCHhtYfZRAt",
      "execution_count": null,
      "outputs": []
    }
  ]
}